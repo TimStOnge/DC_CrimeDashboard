{
 "cells": [
  {
   "cell_type": "markdown",
   "metadata": {},
   "source": [
    "# Linear Regression Analysis: Violent Crime and Socioeconomic Conditions\n",
    "\n",
    "This python notebook outlines the regression analyses of socioeconomic conditions (unemployment rate, poverty rate, and housing vacancy rate) and violent crime in Washington, DC."
   ]
  },
  {
   "cell_type": "code",
   "execution_count": 1,
   "metadata": {},
   "outputs": [],
   "source": [
    "%matplotlib inline\n",
    "\n",
    "# SQL Alchemy\n",
    "from sqlalchemy import create_engine\n",
    "\n",
    "# PyMySQL \n",
    "import pymysql\n",
    "pymysql.install_as_MySQLdb()\n",
    "\n",
    "# Config variables\n",
    "from config import remote_db_endpoint, remote_db_port\n",
    "from config import remote_dccrime_dbname, remote_dccrime_dbuser, remote_dccrime_dbpwd\n",
    "\n",
    "# Import Pandas\n",
    "import pandas as pd\n",
    "\n",
    "# Import matplotlib and numpy\n",
    "import matplotlib.pyplot as plt\n",
    "import numpy as np\n",
    "\n",
    "# Import modules from the sklearn library (for regression analysis)\n",
    "from sklearn.linear_model import LinearRegression\n",
    "from sklearn.model_selection import train_test_split\n",
    "from sklearn.metrics import mean_squared_error, r2_score"
   ]
  },
  {
   "cell_type": "markdown",
   "metadata": {},
   "source": [
    "## Import crime and socioeconomic data from AWS"
   ]
  },
  {
   "cell_type": "code",
   "execution_count": 2,
   "metadata": {},
   "outputs": [],
   "source": [
    "# Connect to remote AWS database\n",
    "engine = create_engine(f\"mysql://{remote_dccrime_dbuser}:{remote_dccrime_dbpwd}@{remote_db_endpoint}:{remote_db_port}/{remote_dccrime_dbname}\")\n",
    "conn = engine.connect()\n"
   ]
  },
  {
   "cell_type": "code",
   "execution_count": 3,
   "metadata": {},
   "outputs": [
    {
     "data": {
      "text/html": [
       "<div>\n",
       "<style scoped>\n",
       "    .dataframe tbody tr th:only-of-type {\n",
       "        vertical-align: middle;\n",
       "    }\n",
       "\n",
       "    .dataframe tbody tr th {\n",
       "        vertical-align: top;\n",
       "    }\n",
       "\n",
       "    .dataframe thead th {\n",
       "        text-align: right;\n",
       "    }\n",
       "</style>\n",
       "<table border=\"1\" class=\"dataframe\">\n",
       "  <thead>\n",
       "    <tr style=\"text-align: right;\">\n",
       "      <th></th>\n",
       "      <th>ADW</th>\n",
       "      <th>Homicide</th>\n",
       "      <th>Robbery</th>\n",
       "      <th>Sex Abuse</th>\n",
       "      <th>BG</th>\n",
       "    </tr>\n",
       "  </thead>\n",
       "  <tbody>\n",
       "    <tr>\n",
       "      <th>0</th>\n",
       "      <td>3.0</td>\n",
       "      <td>0.0</td>\n",
       "      <td>2.0</td>\n",
       "      <td>1.0</td>\n",
       "      <td>0001001</td>\n",
       "    </tr>\n",
       "    <tr>\n",
       "      <th>1</th>\n",
       "      <td>3.0</td>\n",
       "      <td>0.0</td>\n",
       "      <td>10.0</td>\n",
       "      <td>2.0</td>\n",
       "      <td>0001002</td>\n",
       "    </tr>\n",
       "    <tr>\n",
       "      <th>2</th>\n",
       "      <td>7.0</td>\n",
       "      <td>0.0</td>\n",
       "      <td>8.0</td>\n",
       "      <td>2.0</td>\n",
       "      <td>0001003</td>\n",
       "    </tr>\n",
       "    <tr>\n",
       "      <th>3</th>\n",
       "      <td>31.0</td>\n",
       "      <td>0.0</td>\n",
       "      <td>36.0</td>\n",
       "      <td>7.0</td>\n",
       "      <td>0001004</td>\n",
       "    </tr>\n",
       "    <tr>\n",
       "      <th>4</th>\n",
       "      <td>1.0</td>\n",
       "      <td>0.0</td>\n",
       "      <td>5.0</td>\n",
       "      <td>4.0</td>\n",
       "      <td>0002011</td>\n",
       "    </tr>\n",
       "  </tbody>\n",
       "</table>\n",
       "</div>"
      ],
      "text/plain": [
       "    ADW  Homicide  Robbery  Sex Abuse       BG\n",
       "0   3.0       0.0      2.0        1.0  0001001\n",
       "1   3.0       0.0     10.0        2.0  0001002\n",
       "2   7.0       0.0      8.0        2.0  0001003\n",
       "3  31.0       0.0     36.0        7.0  0001004\n",
       "4   1.0       0.0      5.0        4.0  0002011"
      ]
     },
     "execution_count": 3,
     "metadata": {},
     "output_type": "execute_result"
    }
   ],
   "source": [
    "# Import \"crime_totals\" data from AWS\n",
    "crime_totals = pd.read_sql(\"SELECT * from crime_totals\", conn)\n",
    "crime_totals.head()"
   ]
  },
  {
   "cell_type": "code",
   "execution_count": 4,
   "metadata": {},
   "outputs": [
    {
     "data": {
      "text/html": [
       "<div>\n",
       "<style scoped>\n",
       "    .dataframe tbody tr th:only-of-type {\n",
       "        vertical-align: middle;\n",
       "    }\n",
       "\n",
       "    .dataframe tbody tr th {\n",
       "        vertical-align: top;\n",
       "    }\n",
       "\n",
       "    .dataframe thead th {\n",
       "        text-align: right;\n",
       "    }\n",
       "</style>\n",
       "<table border=\"1\" class=\"dataframe\">\n",
       "  <thead>\n",
       "    <tr style=\"text-align: right;\">\n",
       "      <th></th>\n",
       "      <th>Block Group ID</th>\n",
       "      <th>Total Population</th>\n",
       "      <th>Pct Poverty</th>\n",
       "      <th>Pct Unemployed</th>\n",
       "      <th>Pct Vacant</th>\n",
       "    </tr>\n",
       "  </thead>\n",
       "  <tbody>\n",
       "    <tr>\n",
       "      <th>0</th>\n",
       "      <td>0001001</td>\n",
       "      <td>1382.0</td>\n",
       "      <td>0.000000</td>\n",
       "      <td>0.000000</td>\n",
       "      <td>16.620879</td>\n",
       "    </tr>\n",
       "    <tr>\n",
       "      <th>1</th>\n",
       "      <td>0001002</td>\n",
       "      <td>1463.0</td>\n",
       "      <td>3.075871</td>\n",
       "      <td>5.433746</td>\n",
       "      <td>15.702479</td>\n",
       "    </tr>\n",
       "    <tr>\n",
       "      <th>2</th>\n",
       "      <td>0001003</td>\n",
       "      <td>972.0</td>\n",
       "      <td>1.440329</td>\n",
       "      <td>9.256449</td>\n",
       "      <td>16.603053</td>\n",
       "    </tr>\n",
       "    <tr>\n",
       "      <th>3</th>\n",
       "      <td>0001004</td>\n",
       "      <td>1188.0</td>\n",
       "      <td>8.922559</td>\n",
       "      <td>3.095975</td>\n",
       "      <td>18.136439</td>\n",
       "    </tr>\n",
       "    <tr>\n",
       "      <th>4</th>\n",
       "      <td>0002011</td>\n",
       "      <td>3733.0</td>\n",
       "      <td>1.473346</td>\n",
       "      <td>6.604938</td>\n",
       "      <td>0.000000</td>\n",
       "    </tr>\n",
       "  </tbody>\n",
       "</table>\n",
       "</div>"
      ],
      "text/plain": [
       "  Block Group ID  Total Population  Pct Poverty  Pct Unemployed  Pct Vacant\n",
       "0        0001001            1382.0     0.000000        0.000000   16.620879\n",
       "1        0001002            1463.0     3.075871        5.433746   15.702479\n",
       "2        0001003             972.0     1.440329        9.256449   16.603053\n",
       "3        0001004            1188.0     8.922559        3.095975   18.136439\n",
       "4        0002011            3733.0     1.473346        6.604938    0.000000"
      ]
     },
     "execution_count": 4,
     "metadata": {},
     "output_type": "execute_result"
    }
   ],
   "source": [
    "# Import \"socioecon_data\" data from AWS\n",
    "socioecon_data = pd.read_sql(\"SELECT * from socioecon_data\", conn)\n",
    "socioecon_data.head()"
   ]
  },
  {
   "cell_type": "markdown",
   "metadata": {},
   "source": [
    "## Merge and clean datasets of crime and socioconomic data"
   ]
  },
  {
   "cell_type": "code",
   "execution_count": 5,
   "metadata": {},
   "outputs": [
    {
     "data": {
      "text/html": [
       "<div>\n",
       "<style scoped>\n",
       "    .dataframe tbody tr th:only-of-type {\n",
       "        vertical-align: middle;\n",
       "    }\n",
       "\n",
       "    .dataframe tbody tr th {\n",
       "        vertical-align: top;\n",
       "    }\n",
       "\n",
       "    .dataframe thead th {\n",
       "        text-align: right;\n",
       "    }\n",
       "</style>\n",
       "<table border=\"1\" class=\"dataframe\">\n",
       "  <thead>\n",
       "    <tr style=\"text-align: right;\">\n",
       "      <th></th>\n",
       "      <th>ADW</th>\n",
       "      <th>Homicide</th>\n",
       "      <th>Robbery</th>\n",
       "      <th>Sex Abuse</th>\n",
       "      <th>BG</th>\n",
       "      <th>Block Group ID</th>\n",
       "      <th>Total Population</th>\n",
       "      <th>Pct Poverty</th>\n",
       "      <th>Pct Unemployed</th>\n",
       "      <th>Pct Vacant</th>\n",
       "    </tr>\n",
       "  </thead>\n",
       "  <tbody>\n",
       "    <tr>\n",
       "      <th>0</th>\n",
       "      <td>3.0</td>\n",
       "      <td>0.0</td>\n",
       "      <td>2.0</td>\n",
       "      <td>1.0</td>\n",
       "      <td>0001001</td>\n",
       "      <td>0001001</td>\n",
       "      <td>1382.0</td>\n",
       "      <td>0.000000</td>\n",
       "      <td>0.000000</td>\n",
       "      <td>16.620879</td>\n",
       "    </tr>\n",
       "    <tr>\n",
       "      <th>1</th>\n",
       "      <td>3.0</td>\n",
       "      <td>0.0</td>\n",
       "      <td>10.0</td>\n",
       "      <td>2.0</td>\n",
       "      <td>0001002</td>\n",
       "      <td>0001002</td>\n",
       "      <td>1463.0</td>\n",
       "      <td>3.075871</td>\n",
       "      <td>5.433746</td>\n",
       "      <td>15.702479</td>\n",
       "    </tr>\n",
       "    <tr>\n",
       "      <th>2</th>\n",
       "      <td>7.0</td>\n",
       "      <td>0.0</td>\n",
       "      <td>8.0</td>\n",
       "      <td>2.0</td>\n",
       "      <td>0001003</td>\n",
       "      <td>0001003</td>\n",
       "      <td>972.0</td>\n",
       "      <td>1.440329</td>\n",
       "      <td>9.256449</td>\n",
       "      <td>16.603053</td>\n",
       "    </tr>\n",
       "    <tr>\n",
       "      <th>3</th>\n",
       "      <td>31.0</td>\n",
       "      <td>0.0</td>\n",
       "      <td>36.0</td>\n",
       "      <td>7.0</td>\n",
       "      <td>0001004</td>\n",
       "      <td>0001004</td>\n",
       "      <td>1188.0</td>\n",
       "      <td>8.922559</td>\n",
       "      <td>3.095975</td>\n",
       "      <td>18.136439</td>\n",
       "    </tr>\n",
       "    <tr>\n",
       "      <th>4</th>\n",
       "      <td>1.0</td>\n",
       "      <td>0.0</td>\n",
       "      <td>5.0</td>\n",
       "      <td>4.0</td>\n",
       "      <td>0002011</td>\n",
       "      <td>0002011</td>\n",
       "      <td>3733.0</td>\n",
       "      <td>1.473346</td>\n",
       "      <td>6.604938</td>\n",
       "      <td>0.000000</td>\n",
       "    </tr>\n",
       "  </tbody>\n",
       "</table>\n",
       "</div>"
      ],
      "text/plain": [
       "    ADW  Homicide  Robbery  Sex Abuse       BG Block Group ID  \\\n",
       "0   3.0       0.0      2.0        1.0  0001001        0001001   \n",
       "1   3.0       0.0     10.0        2.0  0001002        0001002   \n",
       "2   7.0       0.0      8.0        2.0  0001003        0001003   \n",
       "3  31.0       0.0     36.0        7.0  0001004        0001004   \n",
       "4   1.0       0.0      5.0        4.0  0002011        0002011   \n",
       "\n",
       "   Total Population  Pct Poverty  Pct Unemployed  Pct Vacant  \n",
       "0            1382.0     0.000000        0.000000   16.620879  \n",
       "1            1463.0     3.075871        5.433746   15.702479  \n",
       "2             972.0     1.440329        9.256449   16.603053  \n",
       "3            1188.0     8.922559        3.095975   18.136439  \n",
       "4            3733.0     1.473346        6.604938    0.000000  "
      ]
     },
     "execution_count": 5,
     "metadata": {},
     "output_type": "execute_result"
    }
   ],
   "source": [
    "# Merge crime and socioeconomic data on the corresponding block group ID fields.\n",
    "merge_table = pd.merge(crime_totals, socioecon_data, left_on='BG', right_on='Block Group ID', how=\"outer\")\n",
    "merge_table.head()"
   ]
  },
  {
   "cell_type": "code",
   "execution_count": 6,
   "metadata": {},
   "outputs": [
    {
     "data": {
      "text/html": [
       "<div>\n",
       "<style scoped>\n",
       "    .dataframe tbody tr th:only-of-type {\n",
       "        vertical-align: middle;\n",
       "    }\n",
       "\n",
       "    .dataframe tbody tr th {\n",
       "        vertical-align: top;\n",
       "    }\n",
       "\n",
       "    .dataframe thead th {\n",
       "        text-align: right;\n",
       "    }\n",
       "</style>\n",
       "<table border=\"1\" class=\"dataframe\">\n",
       "  <thead>\n",
       "    <tr style=\"text-align: right;\">\n",
       "      <th></th>\n",
       "      <th>ADW</th>\n",
       "      <th>Homicide</th>\n",
       "      <th>Robbery</th>\n",
       "      <th>Sex Abuse</th>\n",
       "      <th>BG</th>\n",
       "      <th>Block Group ID</th>\n",
       "      <th>Total Population</th>\n",
       "      <th>Pct Poverty</th>\n",
       "      <th>Pct Unemployed</th>\n",
       "      <th>Pct Vacant</th>\n",
       "      <th>Total_Violent_Crime</th>\n",
       "    </tr>\n",
       "  </thead>\n",
       "  <tbody>\n",
       "    <tr>\n",
       "      <th>0</th>\n",
       "      <td>3.0</td>\n",
       "      <td>0.0</td>\n",
       "      <td>2.0</td>\n",
       "      <td>1.0</td>\n",
       "      <td>0001001</td>\n",
       "      <td>0001001</td>\n",
       "      <td>1382.0</td>\n",
       "      <td>0.000000</td>\n",
       "      <td>0.000000</td>\n",
       "      <td>16.620879</td>\n",
       "      <td>6.0</td>\n",
       "    </tr>\n",
       "    <tr>\n",
       "      <th>1</th>\n",
       "      <td>3.0</td>\n",
       "      <td>0.0</td>\n",
       "      <td>10.0</td>\n",
       "      <td>2.0</td>\n",
       "      <td>0001002</td>\n",
       "      <td>0001002</td>\n",
       "      <td>1463.0</td>\n",
       "      <td>3.075871</td>\n",
       "      <td>5.433746</td>\n",
       "      <td>15.702479</td>\n",
       "      <td>15.0</td>\n",
       "    </tr>\n",
       "    <tr>\n",
       "      <th>2</th>\n",
       "      <td>7.0</td>\n",
       "      <td>0.0</td>\n",
       "      <td>8.0</td>\n",
       "      <td>2.0</td>\n",
       "      <td>0001003</td>\n",
       "      <td>0001003</td>\n",
       "      <td>972.0</td>\n",
       "      <td>1.440329</td>\n",
       "      <td>9.256449</td>\n",
       "      <td>16.603053</td>\n",
       "      <td>17.0</td>\n",
       "    </tr>\n",
       "    <tr>\n",
       "      <th>3</th>\n",
       "      <td>31.0</td>\n",
       "      <td>0.0</td>\n",
       "      <td>36.0</td>\n",
       "      <td>7.0</td>\n",
       "      <td>0001004</td>\n",
       "      <td>0001004</td>\n",
       "      <td>1188.0</td>\n",
       "      <td>8.922559</td>\n",
       "      <td>3.095975</td>\n",
       "      <td>18.136439</td>\n",
       "      <td>74.0</td>\n",
       "    </tr>\n",
       "    <tr>\n",
       "      <th>4</th>\n",
       "      <td>1.0</td>\n",
       "      <td>0.0</td>\n",
       "      <td>5.0</td>\n",
       "      <td>4.0</td>\n",
       "      <td>0002011</td>\n",
       "      <td>0002011</td>\n",
       "      <td>3733.0</td>\n",
       "      <td>1.473346</td>\n",
       "      <td>6.604938</td>\n",
       "      <td>0.000000</td>\n",
       "      <td>10.0</td>\n",
       "    </tr>\n",
       "  </tbody>\n",
       "</table>\n",
       "</div>"
      ],
      "text/plain": [
       "    ADW  Homicide  Robbery  Sex Abuse       BG Block Group ID  \\\n",
       "0   3.0       0.0      2.0        1.0  0001001        0001001   \n",
       "1   3.0       0.0     10.0        2.0  0001002        0001002   \n",
       "2   7.0       0.0      8.0        2.0  0001003        0001003   \n",
       "3  31.0       0.0     36.0        7.0  0001004        0001004   \n",
       "4   1.0       0.0      5.0        4.0  0002011        0002011   \n",
       "\n",
       "   Total Population  Pct Poverty  Pct Unemployed  Pct Vacant  \\\n",
       "0            1382.0     0.000000        0.000000   16.620879   \n",
       "1            1463.0     3.075871        5.433746   15.702479   \n",
       "2             972.0     1.440329        9.256449   16.603053   \n",
       "3            1188.0     8.922559        3.095975   18.136439   \n",
       "4            3733.0     1.473346        6.604938    0.000000   \n",
       "\n",
       "   Total_Violent_Crime  \n",
       "0                  6.0  \n",
       "1                 15.0  \n",
       "2                 17.0  \n",
       "3                 74.0  \n",
       "4                 10.0  "
      ]
     },
     "execution_count": 6,
     "metadata": {},
     "output_type": "execute_result"
    }
   ],
   "source": [
    "# Add new column for all violent crime (calculated by individual crime type counts)\n",
    "merge_table[\"Total_Violent_Crime\"] = merge_table[\"ADW\"] + merge_table[\"Homicide\"] + merge_table[\"Robbery\"] + merge_table[\"Sex Abuse\"]\n",
    "merge_table.head()"
   ]
  },
  {
   "cell_type": "code",
   "execution_count": 7,
   "metadata": {},
   "outputs": [
    {
     "data": {
      "text/html": [
       "<div>\n",
       "<style scoped>\n",
       "    .dataframe tbody tr th:only-of-type {\n",
       "        vertical-align: middle;\n",
       "    }\n",
       "\n",
       "    .dataframe tbody tr th {\n",
       "        vertical-align: top;\n",
       "    }\n",
       "\n",
       "    .dataframe thead th {\n",
       "        text-align: right;\n",
       "    }\n",
       "</style>\n",
       "<table border=\"1\" class=\"dataframe\">\n",
       "  <thead>\n",
       "    <tr style=\"text-align: right;\">\n",
       "      <th></th>\n",
       "      <th>ADW</th>\n",
       "      <th>Homicide</th>\n",
       "      <th>Robbery</th>\n",
       "      <th>Sex_Abuse</th>\n",
       "      <th>BG</th>\n",
       "      <th>BG_ID</th>\n",
       "      <th>total_pop</th>\n",
       "      <th>pct_poverty</th>\n",
       "      <th>pct_unemployed</th>\n",
       "      <th>pct_vacancy</th>\n",
       "      <th>Total_Violent_Crime</th>\n",
       "    </tr>\n",
       "  </thead>\n",
       "  <tbody>\n",
       "    <tr>\n",
       "      <th>445</th>\n",
       "      <td>NaN</td>\n",
       "      <td>NaN</td>\n",
       "      <td>NaN</td>\n",
       "      <td>NaN</td>\n",
       "      <td>NaN</td>\n",
       "      <td>0007013</td>\n",
       "      <td>1685.0</td>\n",
       "      <td>5.044510</td>\n",
       "      <td>2.575107</td>\n",
       "      <td>6.152584</td>\n",
       "      <td>NaN</td>\n",
       "    </tr>\n",
       "    <tr>\n",
       "      <th>446</th>\n",
       "      <td>NaN</td>\n",
       "      <td>NaN</td>\n",
       "      <td>NaN</td>\n",
       "      <td>NaN</td>\n",
       "      <td>NaN</td>\n",
       "      <td>0008012</td>\n",
       "      <td>851.0</td>\n",
       "      <td>0.000000</td>\n",
       "      <td>6.341463</td>\n",
       "      <td>4.747774</td>\n",
       "      <td>NaN</td>\n",
       "    </tr>\n",
       "    <tr>\n",
       "      <th>447</th>\n",
       "      <td>NaN</td>\n",
       "      <td>NaN</td>\n",
       "      <td>NaN</td>\n",
       "      <td>NaN</td>\n",
       "      <td>NaN</td>\n",
       "      <td>0010021</td>\n",
       "      <td>1345.0</td>\n",
       "      <td>62.304833</td>\n",
       "      <td>6.515152</td>\n",
       "      <td>24.381188</td>\n",
       "      <td>NaN</td>\n",
       "    </tr>\n",
       "    <tr>\n",
       "      <th>448</th>\n",
       "      <td>NaN</td>\n",
       "      <td>NaN</td>\n",
       "      <td>NaN</td>\n",
       "      <td>NaN</td>\n",
       "      <td>NaN</td>\n",
       "      <td>0013011</td>\n",
       "      <td>1681.0</td>\n",
       "      <td>6.781678</td>\n",
       "      <td>5.035336</td>\n",
       "      <td>6.616729</td>\n",
       "      <td>NaN</td>\n",
       "    </tr>\n",
       "    <tr>\n",
       "      <th>449</th>\n",
       "      <td>NaN</td>\n",
       "      <td>NaN</td>\n",
       "      <td>NaN</td>\n",
       "      <td>NaN</td>\n",
       "      <td>NaN</td>\n",
       "      <td>0013013</td>\n",
       "      <td>1615.0</td>\n",
       "      <td>2.848297</td>\n",
       "      <td>0.000000</td>\n",
       "      <td>5.476673</td>\n",
       "      <td>NaN</td>\n",
       "    </tr>\n",
       "  </tbody>\n",
       "</table>\n",
       "</div>"
      ],
      "text/plain": [
       "     ADW  Homicide  Robbery  Sex_Abuse   BG    BG_ID  total_pop  pct_poverty  \\\n",
       "445  NaN       NaN      NaN        NaN  NaN  0007013     1685.0     5.044510   \n",
       "446  NaN       NaN      NaN        NaN  NaN  0008012      851.0     0.000000   \n",
       "447  NaN       NaN      NaN        NaN  NaN  0010021     1345.0    62.304833   \n",
       "448  NaN       NaN      NaN        NaN  NaN  0013011     1681.0     6.781678   \n",
       "449  NaN       NaN      NaN        NaN  NaN  0013013     1615.0     2.848297   \n",
       "\n",
       "     pct_unemployed  pct_vacancy  Total_Violent_Crime  \n",
       "445        2.575107     6.152584                  NaN  \n",
       "446        6.341463     4.747774                  NaN  \n",
       "447        6.515152    24.381188                  NaN  \n",
       "448        5.035336     6.616729                  NaN  \n",
       "449        0.000000     5.476673                  NaN  "
      ]
     },
     "execution_count": 7,
     "metadata": {},
     "output_type": "execute_result"
    }
   ],
   "source": [
    "# Rename dataframe column names to remove spaces and be more amenable to regression analyses\n",
    "merge_table.rename(columns={'Sex Abuse':'Sex_Abuse',\n",
    "                          'Block Group ID':'BG_ID',\n",
    "                          'Total Population':'total_pop', \n",
    "                          'Pct Poverty':'pct_poverty',\n",
    "                          'Pct Unemployed':'pct_unemployed',\n",
    "                        'Pct Vacant':'pct_vacancy'},\n",
    "                 inplace=True)\n",
    "\n",
    "merge_table.tail()"
   ]
  },
  {
   "cell_type": "code",
   "execution_count": 8,
   "metadata": {},
   "outputs": [
    {
     "data": {
      "text/html": [
       "<div>\n",
       "<style scoped>\n",
       "    .dataframe tbody tr th:only-of-type {\n",
       "        vertical-align: middle;\n",
       "    }\n",
       "\n",
       "    .dataframe tbody tr th {\n",
       "        vertical-align: top;\n",
       "    }\n",
       "\n",
       "    .dataframe thead th {\n",
       "        text-align: right;\n",
       "    }\n",
       "</style>\n",
       "<table border=\"1\" class=\"dataframe\">\n",
       "  <thead>\n",
       "    <tr style=\"text-align: right;\">\n",
       "      <th></th>\n",
       "      <th>ADW</th>\n",
       "      <th>Homicide</th>\n",
       "      <th>Robbery</th>\n",
       "      <th>Sex_Abuse</th>\n",
       "      <th>BG</th>\n",
       "      <th>BG_ID</th>\n",
       "      <th>total_pop</th>\n",
       "      <th>pct_poverty</th>\n",
       "      <th>pct_unemployed</th>\n",
       "      <th>pct_vacancy</th>\n",
       "      <th>Total_Violent_Crime</th>\n",
       "    </tr>\n",
       "  </thead>\n",
       "  <tbody>\n",
       "    <tr>\n",
       "      <th>440</th>\n",
       "      <td>4.0</td>\n",
       "      <td>0.0</td>\n",
       "      <td>12.0</td>\n",
       "      <td>1.0</td>\n",
       "      <td>0110003</td>\n",
       "      <td>0110003</td>\n",
       "      <td>686.0</td>\n",
       "      <td>5.102041</td>\n",
       "      <td>7.233273</td>\n",
       "      <td>8.053691</td>\n",
       "      <td>17.0</td>\n",
       "    </tr>\n",
       "    <tr>\n",
       "      <th>441</th>\n",
       "      <td>13.0</td>\n",
       "      <td>0.0</td>\n",
       "      <td>17.0</td>\n",
       "      <td>1.0</td>\n",
       "      <td>0110004</td>\n",
       "      <td>0110004</td>\n",
       "      <td>1444.0</td>\n",
       "      <td>6.440443</td>\n",
       "      <td>2.185224</td>\n",
       "      <td>5.009107</td>\n",
       "      <td>31.0</td>\n",
       "    </tr>\n",
       "    <tr>\n",
       "      <th>442</th>\n",
       "      <td>82.0</td>\n",
       "      <td>1.0</td>\n",
       "      <td>105.0</td>\n",
       "      <td>10.0</td>\n",
       "      <td>0111001</td>\n",
       "      <td>0111001</td>\n",
       "      <td>1731.0</td>\n",
       "      <td>10.456384</td>\n",
       "      <td>17.165899</td>\n",
       "      <td>10.174881</td>\n",
       "      <td>198.0</td>\n",
       "    </tr>\n",
       "    <tr>\n",
       "      <th>443</th>\n",
       "      <td>46.0</td>\n",
       "      <td>2.0</td>\n",
       "      <td>44.0</td>\n",
       "      <td>8.0</td>\n",
       "      <td>0111002</td>\n",
       "      <td>0111002</td>\n",
       "      <td>2155.0</td>\n",
       "      <td>9.419954</td>\n",
       "      <td>13.886114</td>\n",
       "      <td>3.949224</td>\n",
       "      <td>100.0</td>\n",
       "    </tr>\n",
       "    <tr>\n",
       "      <th>444</th>\n",
       "      <td>79.0</td>\n",
       "      <td>3.0</td>\n",
       "      <td>79.0</td>\n",
       "      <td>6.0</td>\n",
       "      <td>0111003</td>\n",
       "      <td>0111003</td>\n",
       "      <td>1639.0</td>\n",
       "      <td>35.143380</td>\n",
       "      <td>18.853695</td>\n",
       "      <td>17.616580</td>\n",
       "      <td>167.0</td>\n",
       "    </tr>\n",
       "  </tbody>\n",
       "</table>\n",
       "</div>"
      ],
      "text/plain": [
       "      ADW  Homicide  Robbery  Sex_Abuse       BG    BG_ID  total_pop  \\\n",
       "440   4.0       0.0     12.0        1.0  0110003  0110003      686.0   \n",
       "441  13.0       0.0     17.0        1.0  0110004  0110004     1444.0   \n",
       "442  82.0       1.0    105.0       10.0  0111001  0111001     1731.0   \n",
       "443  46.0       2.0     44.0        8.0  0111002  0111002     2155.0   \n",
       "444  79.0       3.0     79.0        6.0  0111003  0111003     1639.0   \n",
       "\n",
       "     pct_poverty  pct_unemployed  pct_vacancy  Total_Violent_Crime  \n",
       "440     5.102041        7.233273     8.053691                 17.0  \n",
       "441     6.440443        2.185224     5.009107                 31.0  \n",
       "442    10.456384       17.165899    10.174881                198.0  \n",
       "443     9.419954       13.886114     3.949224                100.0  \n",
       "444    35.143380       18.853695    17.616580                167.0  "
      ]
     },
     "execution_count": 8,
     "metadata": {},
     "output_type": "execute_result"
    }
   ],
   "source": [
    "# The end of the merge table indicates that there are numerous block groups that do not have corresponding crime data,\n",
    "# perhaps due to data-compilationerror. These records are excluded here:\n",
    "merge_table_final = merge_table[pd.notnull(merge_table['BG'])]\n",
    "merge_table_final.tail()"
   ]
  },
  {
   "cell_type": "markdown",
   "metadata": {},
   "source": [
    "---"
   ]
  },
  {
   "cell_type": "markdown",
   "metadata": {},
   "source": [
    "## Regression Analysis"
   ]
  },
  {
   "cell_type": "markdown",
   "metadata": {},
   "source": [
    "### Percent Poverty x Total Violent Crime"
   ]
  },
  {
   "cell_type": "code",
   "execution_count": 31,
   "metadata": {},
   "outputs": [
    {
     "name": "stdout",
     "output_type": "stream",
     "text": [
      "Weight coefficients:  [[2.42154509]]\n",
      "y-axis intercept:  [29.10257971]\n"
     ]
    },
    {
     "data": {
      "text/plain": [
       "[<matplotlib.lines.Line2D at 0x1a25760320>]"
      ]
     },
     "execution_count": 31,
     "metadata": {},
     "output_type": "execute_result"
    },
    {
     "data": {
      "image/png": "[encoded data removed]",
      "text/plain": [
       "<Figure size 432x288 with 1 Axes>"
      ]
     },
     "metadata": {
      "needs_background": "light"
     },
     "output_type": "display_data"
    }
   ],
   "source": [
    "X = merge_table_final.pct_poverty.values.reshape(-1, 1)\n",
    "y = merge_table_final.Total_Violent_Crime.values.reshape(-1, 1)\n",
    "\n",
    "model = LinearRegression()\n",
    "\n",
    "model.fit(X, y)\n",
    "print('Weight coefficients: ', model.coef_)\n",
    "print('y-axis intercept: ', model.intercept_)\n",
    "\n",
    "x_min = np.array([[X.min()]])\n",
    "x_max = np.array([[X.max()]])\n",
    "\n",
    "y_min = model.predict(x_min)\n",
    "y_max = model.predict(x_max)\n",
    "\n",
    "plt.scatter(X, y, c='blue')\n",
    "plt.xlabel('Population in Poverty (%)')\n",
    "plt.ylabel('Violent Crimes')\n",
    "plt.plot([x_min[0], x_max[0]], [y_min[0], y_max[0]], c='red')"
   ]
  },
  {
   "cell_type": "code",
   "execution_count": 44,
   "metadata": {},
   "outputs": [
    {
     "name": "stdout",
     "output_type": "stream",
     "text": [
      "Mean Squared Error (MSE): 3124.8215709690257\n",
      "R-squared (R2 ): 0.191403330621723\n"
     ]
    },
    {
     "data": {
      "image/png": "[encoded data removed]",
      "text/plain": [
       "<Figure size 432x288 with 1 Axes>"
      ]
     },
     "metadata": {
      "needs_background": "light"
     },
     "output_type": "display_data"
    }
   ],
   "source": [
    "X_train, X_test, y_train, y_test = train_test_split(X, y, random_state=1)\n",
    "                                                    \n",
    "model = LinearRegression()\n",
    "\n",
    "model.fit(X_train, y_train)\n",
    "\n",
    "y_predictions = model.predict(X_test)\n",
    "\n",
    "plt.scatter(y_predictions, y_predictions - y_test)\n",
    "#plt.scatter(model.predict(X_train), model.predict(X_train) - y_train, c=\"blue\", label=\"Training Data\")\n",
    "#plt.scatter(model.predict(X_test), model.predict(X_test) - y_test, c=\"orange\", label=\"Testing Data\")\n",
    "plt.hlines(y=0, xmin=y_test.min(), xmax=y_test.max())\n",
    "\n",
    "# Score the predictions with mse and r2\n",
    "mse = mean_squared_error(y_test, y_predictions)\n",
    "r2 = r2_score(y_test, y_predictions)\n",
    "\n",
    "print(f\"Mean Squared Error (MSE): {mse}\")\n",
    "print(f\"R-squared (R2 ): {r2}\")\n",
    "\n",
    "# =============================================\n"
   ]
  },
  {
   "cell_type": "code",
   "execution_count": 25,
   "metadata": {},
   "outputs": [
    {
     "name": "stdout",
     "output_type": "stream",
     "text": [
      "MSE: 0.6428740623975807, R2: 0.19140333062172288\n"
     ]
    },
    {
     "data": {
      "image/png": "[encoded data removed]",
      "text/plain": [
       "<Figure size 432x288 with 1 Axes>"
      ]
     },
     "metadata": {
      "needs_background": "light"
     },
     "output_type": "display_data"
    }
   ],
   "source": [
    "################# SCALING DATA #############\n",
    "\n",
    "from sklearn.preprocessing import StandardScaler\n",
    "\n",
    "# Create a StandardScater model and fit it to the training data\n",
    "\n",
    "X_scaler = StandardScaler().fit(X_train)\n",
    "y_scaler = StandardScaler().fit(y_train)\n",
    "\n",
    "X_train_scaled = X_scaler.transform(X_train)\n",
    "X_test_scaled = X_scaler.transform(X_test)\n",
    "y_train_scaled = y_scaler.transform(y_train)\n",
    "y_test_scaled = y_scaler.transform(y_test)\n",
    "\n",
    "model = LinearRegression()\n",
    "\n",
    "model.fit(X_train_scaled, y_train_scaled)\n",
    "\n",
    "y_predictions = model.predict(X_test_scaled)\n",
    "\n",
    "model.fit(X_train_scaled, y_train_scaled)\n",
    "\n",
    "\n",
    "plt.scatter(y_predictions, y_predictions - y_test_scaled)\n",
    "plt.hlines(y=0, xmin=y_test_scaled.min(), xmax=y_test_scaled.max())\n",
    "\n",
    "MSE = mean_squared_error(y_test_scaled, y_predictions)\n",
    "r2 = r2_score(y_test_scaled, y_predictions)\n",
    "print(f\"MSE: {MSE}, R2: {r2}\")\n",
    "\n",
    "#######################################################"
   ]
  },
  {
   "cell_type": "markdown",
   "metadata": {},
   "source": [
    "### Percent Unemployed x Total Violent Crime"
   ]
  },
  {
   "cell_type": "code",
   "execution_count": 26,
   "metadata": {},
   "outputs": [
    {
     "name": "stdout",
     "output_type": "stream",
     "text": [
      "Weight coefficients:  [[2.62371498]]\n",
      "y-axis intercept:  [42.92295191]\n"
     ]
    },
    {
     "data": {
      "text/plain": [
       "[<matplotlib.lines.Line2D at 0x1a25aac6a0>]"
      ]
     },
     "execution_count": 26,
     "metadata": {},
     "output_type": "execute_result"
    },
    {
     "data": {
      "image/png": "[encoded data removed]",
      "text/plain": [
       "<Figure size 432x288 with 1 Axes>"
      ]
     },
     "metadata": {
      "needs_background": "light"
     },
     "output_type": "display_data"
    }
   ],
   "source": [
    "X = merge_table_final.pct_unemployed.values.reshape(-1, 1)\n",
    "y = merge_table_final.Total_Violent_Crime.values.reshape(-1, 1)\n",
    "\n",
    "model = LinearRegression()\n",
    "\n",
    "model.fit(X, y)\n",
    "\n",
    "print('Weight coefficients: ', model.coef_)\n",
    "print('y-axis intercept: ', model.intercept_)\n",
    "\n",
    "x_min = np.array([[X.min()]])\n",
    "x_max = np.array([[X.max()]])\n",
    "\n",
    "y_min = model.predict(x_min)\n",
    "y_max = model.predict(x_max)\n",
    "\n",
    "plt.scatter(X, y, c='blue')\n",
    "plt.xlabel('Unemployment Rate (% of Labor Force)')\n",
    "plt.ylabel('Violent Crimes')\n",
    "plt.plot([x_min[0], x_max[0]], [y_min[0], y_max[0]], c='red')"
   ]
  },
  {
   "cell_type": "code",
   "execution_count": 19,
   "metadata": {},
   "outputs": [
    {
     "name": "stdout",
     "output_type": "stream",
     "text": [
      "Mean Squared Error (MSE): 3207.46291847133\n",
      "R-squared (R2 ): 0.17001858374077594\n"
     ]
    },
    {
     "data": {
      "image/png": "[encoded data removed]",
      "text/plain": [
       "<Figure size 432x288 with 1 Axes>"
      ]
     },
     "metadata": {
      "needs_background": "light"
     },
     "output_type": "display_data"
    }
   ],
   "source": [
    "X_train, X_test, y_train, y_test = train_test_split(X, y, random_state=1)\n",
    "                                                    \n",
    "model = LinearRegression()\n",
    "\n",
    "model.fit(X_train, y_train)\n",
    "\n",
    "y_predictions = model.predict(X_test)\n",
    "\n",
    "plt.scatter(y_predictions, y_predictions - y_test)\n",
    "plt.hlines(y=0, xmin=y_test.min(), xmax=y_test.max())\n",
    "\n",
    "# Score the predictions with mse and r2\n",
    "mse = mean_squared_error(y_test, y_predictions)\n",
    "r2 = r2_score(y_test, y_predictions)\n",
    "\n",
    "print(f\"Mean Squared Error (MSE): {mse}\")\n",
    "print(f\"R-squared (R2 ): {r2}\")\n",
    "\n",
    "# ============================================="
   ]
  },
  {
   "cell_type": "markdown",
   "metadata": {},
   "source": [
    "### Percent Vacant Units x Total Violent Crime"
   ]
  },
  {
   "cell_type": "code",
   "execution_count": 27,
   "metadata": {},
   "outputs": [
    {
     "name": "stdout",
     "output_type": "stream",
     "text": [
      "Weight coefficients:  [[1.68225421]]\n",
      "y-axis intercept:  [52.19514742]\n"
     ]
    },
    {
     "data": {
      "text/plain": [
       "[<matplotlib.lines.Line2D at 0x1a25b7d1d0>]"
      ]
     },
     "execution_count": 27,
     "metadata": {},
     "output_type": "execute_result"
    },
    {
     "data": {
      "image/png": "[encoded data removed]",
      "text/plain": [
       "<Figure size 432x288 with 1 Axes>"
      ]
     },
     "metadata": {
      "needs_background": "light"
     },
     "output_type": "display_data"
    }
   ],
   "source": [
    "X = merge_table_final.pct_vacancy.values.reshape(-1, 1)\n",
    "y = merge_table_final.Total_Violent_Crime.values.reshape(-1, 1)\n",
    "\n",
    "model = LinearRegression()\n",
    "\n",
    "model.fit(X, y)\n",
    "\n",
    "print('Weight coefficients: ', model.coef_)\n",
    "print('y-axis intercept: ', model.intercept_)\n",
    "\n",
    "x_min = np.array([[X.min()]])\n",
    "x_max = np.array([[X.max()]])\n",
    "\n",
    "y_min = model.predict(x_min)\n",
    "y_max = model.predict(x_max)\n",
    "\n",
    "plt.scatter(X, y, c='blue')\n",
    "plt.xlabel('Vacant Units (% of All Housing Units)')\n",
    "plt.ylabel('Violent Crimes')\n",
    "plt.plot([x_min[0], x_max[0]], [y_min[0], y_max[0]], c='red')"
   ]
  },
  {
   "cell_type": "code",
   "execution_count": 21,
   "metadata": {},
   "outputs": [
    {
     "name": "stdout",
     "output_type": "stream",
     "text": [
      "Mean Squared Error (MSE): 4025.7701841690937\n",
      "R-squared (R2 ): -0.04173127606516025\n"
     ]
    },
    {
     "data": {
      "image/png": "[encoded data removed]",
      "text/plain": [
       "<Figure size 432x288 with 1 Axes>"
      ]
     },
     "metadata": {
      "needs_background": "light"
     },
     "output_type": "display_data"
    }
   ],
   "source": [
    "X_train, X_test, y_train, y_test = train_test_split(X, y, random_state=1)\n",
    "                                                    \n",
    "model = LinearRegression()\n",
    "\n",
    "model.fit(X_train, y_train)\n",
    "\n",
    "y_predictions = model.predict(X_test)\n",
    "\n",
    "plt.scatter(y_predictions, y_predictions - y_test)\n",
    "plt.hlines(y=0, xmin=y_test.min(), xmax=y_test.max())\n",
    "\n",
    "# Score the predictions with mse and r2\n",
    "mse = mean_squared_error(y_test, y_predictions)\n",
    "r2 = r2_score(y_test, y_predictions)\n",
    "\n",
    "print(f\"Mean Squared Error (MSE): {mse}\")\n",
    "print(f\"R-squared (R2 ): {r2}\")\n",
    "\n",
    "# ============================================="
   ]
  },
  {
   "cell_type": "markdown",
   "metadata": {},
   "source": [
    "---"
   ]
  },
  {
   "cell_type": "markdown",
   "metadata": {},
   "source": [
    "### Total Population x Total Violent Crime"
   ]
  },
  {
   "cell_type": "code",
   "execution_count": 30,
   "metadata": {},
   "outputs": [
    {
     "name": "stdout",
     "output_type": "stream",
     "text": [
      "Weight coefficients:  [[0.03048512]]\n",
      "y-axis intercept:  [24.1591522]\n"
     ]
    },
    {
     "data": {
      "text/plain": [
       "[<matplotlib.lines.Line2D at 0x1a25c72780>]"
      ]
     },
     "execution_count": 30,
     "metadata": {},
     "output_type": "execute_result"
    },
    {
     "data": {
      "image/png": "[encoded data removed]",
      "text/plain": [
       "<Figure size 432x288 with 1 Axes>"
      ]
     },
     "metadata": {
      "needs_background": "light"
     },
     "output_type": "display_data"
    }
   ],
   "source": [
    "X = merge_table_final.total_pop.values.reshape(-1, 1)\n",
    "y = merge_table_final.Total_Violent_Crime.values.reshape(-1, 1)\n",
    "\n",
    "model = LinearRegression()\n",
    "\n",
    "model.fit(X, y)\n",
    "\n",
    "print('Weight coefficients: ', model.coef_)\n",
    "print('y-axis intercept: ', model.intercept_)\n",
    "\n",
    "x_min = np.array([[X.min()]])\n",
    "x_max = np.array([[X.max()]])\n",
    "\n",
    "y_min = model.predict(x_min)\n",
    "y_max = model.predict(x_max)\n",
    "\n",
    "plt.scatter(X, y, c='blue')\n",
    "plt.xlabel('Block Group Population')\n",
    "plt.ylabel('Violent Crimes')\n",
    "plt.plot([x_min[0], x_max[0]], [y_min[0], y_max[0]], c='red')"
   ]
  },
  {
   "cell_type": "code",
   "execution_count": 29,
   "metadata": {},
   "outputs": [
    {
     "name": "stdout",
     "output_type": "stream",
     "text": [
      "Mean Squared Error (MSE): 3385.6347144220135\n",
      "R-squared (R2 ): 0.12391383263391764\n"
     ]
    },
    {
     "data": {
      "image/png": "[encoded data removed]",
      "text/plain": [
       "<Figure size 432x288 with 1 Axes>"
      ]
     },
     "metadata": {
      "needs_background": "light"
     },
     "output_type": "display_data"
    }
   ],
   "source": [
    "X_train, X_test, y_train, y_test = train_test_split(X, y, random_state=1)\n",
    "                                                    \n",
    "model = LinearRegression()\n",
    "\n",
    "model.fit(X_train, y_train)\n",
    "\n",
    "y_predictions = model.predict(X_test)\n",
    "\n",
    "plt.scatter(y_predictions, y_predictions - y_test)\n",
    "plt.hlines(y=0, xmin=y_test.min(), xmax=y_test.max())\n",
    "\n",
    "# Score the predictions with mse and r2\n",
    "mse = mean_squared_error(y_test, y_predictions)\n",
    "r2 = r2_score(y_test, y_predictions)\n",
    "\n",
    "print(f\"Mean Squared Error (MSE): {mse}\")\n",
    "print(f\"R-squared (R2 ): {r2}\")"
   ]
  },
  {
   "cell_type": "markdown",
   "metadata": {},
   "source": [
    "### Percent Poverty x ADW"
   ]
  },
  {
   "cell_type": "code",
   "execution_count": 46,
   "metadata": {},
   "outputs": [
    {
     "name": "stdout",
     "output_type": "stream",
     "text": [
      "Weight coefficients:  [[1.3497039]]\n",
      "y-axis intercept:  [5.39205644]\n"
     ]
    },
    {
     "data": {
      "text/plain": [
       "[<matplotlib.lines.Line2D at 0x1a2627b2b0>]"
      ]
     },
     "execution_count": 46,
     "metadata": {},
     "output_type": "execute_result"
    },
    {
     "data": {
      "image/png": "[encoded data removed]",
      "text/plain": [
       "<Figure size 432x288 with 1 Axes>"
      ]
     },
     "metadata": {
      "needs_background": "light"
     },
     "output_type": "display_data"
    }
   ],
   "source": [
    "X = merge_table_final.pct_poverty.values.reshape(-1, 1)\n",
    "y = merge_table_final.ADW.values.reshape(-1, 1)\n",
    "\n",
    "model = LinearRegression()\n",
    "\n",
    "model.fit(X, y)\n",
    "\n",
    "print('Weight coefficients: ', model.coef_)\n",
    "print('y-axis intercept: ', model.intercept_)\n",
    "\n",
    "x_min = np.array([[X.min()]])\n",
    "x_max = np.array([[X.max()]])\n",
    "\n",
    "y_min = model.predict(x_min)\n",
    "y_max = model.predict(x_max)\n",
    "\n",
    "plt.scatter(X, y, c='blue')\n",
    "plt.xlabel('Block Group Population')\n",
    "plt.ylabel('Violent Crimes')\n",
    "plt.plot([x_min[0], x_max[0]], [y_min[0], y_max[0]], c='red')"
   ]
  },
  {
   "cell_type": "code",
   "execution_count": 48,
   "metadata": {},
   "outputs": [
    {
     "name": "stdout",
     "output_type": "stream",
     "text": [
      "Mean Squared Error (MSE): 596.4784496091654\n",
      "R-squared (R2 ): 0.29913121195336123\n"
     ]
    },
    {
     "data": {
      "image/png": "[encoded data removed]",
      "text/plain": [
       "<Figure size 432x288 with 1 Axes>"
      ]
     },
     "metadata": {
      "needs_background": "light"
     },
     "output_type": "display_data"
    }
   ],
   "source": [
    "X_train, X_test, y_train, y_test = train_test_split(X, y, random_state=1)\n",
    "                                                    \n",
    "model = LinearRegression()\n",
    "\n",
    "model.fit(X_train, y_train)\n",
    "\n",
    "y_predictions = model.predict(X_test)\n",
    "\n",
    "plt.scatter(y_predictions, y_predictions - y_test)\n",
    "plt.hlines(y=0, xmin=y_test.min(), xmax=y_test.max())\n",
    "\n",
    "# Score the predictions with mse and r2\n",
    "mse = mean_squared_error(y_test, y_predictions)\n",
    "r2 = r2_score(y_test, y_predictions)\n",
    "\n",
    "print(f\"Mean Squared Error (MSE): {mse}\")\n",
    "print(f\"R-squared (R2 ): {r2}\")"
   ]
  },
  {
   "cell_type": "code",
   "execution_count": 50,
   "metadata": {},
   "outputs": [
    {
     "name": "stdout",
     "output_type": "stream",
     "text": [
      "Weight coefficients:  [[0.81961686]]\n",
      "y-axis intercept:  [21.88045628]\n"
     ]
    },
    {
     "data": {
      "text/plain": [
       "[<matplotlib.lines.Line2D at 0x1a259ed6d8>]"
      ]
     },
     "execution_count": 50,
     "metadata": {},
     "output_type": "execute_result"
    },
    {
     "data": {
      "image/png": "[encoded data removed]",
      "text/plain": [
       "<Figure size 432x288 with 1 Axes>"
      ]
     },
     "metadata": {
      "needs_background": "light"
     },
     "output_type": "display_data"
    }
   ],
   "source": [
    "X = merge_table_final.pct_poverty.values.reshape(-1, 1)\n",
    "y = merge_table_final.Robbery.values.reshape(-1, 1)\n",
    "\n",
    "model = LinearRegression()\n",
    "\n",
    "model.fit(X, y)\n",
    "\n",
    "print('Weight coefficients: ', model.coef_)\n",
    "print('y-axis intercept: ', model.intercept_)\n",
    "\n",
    "x_min = np.array([[X.min()]])\n",
    "x_max = np.array([[X.max()]])\n",
    "\n",
    "y_min = model.predict(x_min)\n",
    "y_max = model.predict(x_max)\n",
    "\n",
    "plt.scatter(X, y, c='blue')\n",
    "plt.xlabel('Block Group Population')\n",
    "plt.ylabel('Violent Crimes')\n",
    "plt.plot([x_min[0], x_max[0]], [y_min[0], y_max[0]], c='red')"
   ]
  },
  {
   "cell_type": "code",
   "execution_count": 51,
   "metadata": {},
   "outputs": [
    {
     "name": "stdout",
     "output_type": "stream",
     "text": [
      "Mean Squared Error (MSE): 914.9848597963556\n",
      "R-squared (R2 ): 0.06838986517563272\n"
     ]
    },
    {
     "data": {
      "image/png": "[encoded data removed]",
      "text/plain": [
       "<Figure size 432x288 with 1 Axes>"
      ]
     },
     "metadata": {
      "needs_background": "light"
     },
     "output_type": "display_data"
    }
   ],
   "source": [
    "X_train, X_test, y_train, y_test = train_test_split(X, y, random_state=1)\n",
    "                                                    \n",
    "model = LinearRegression()\n",
    "\n",
    "model.fit(X_train, y_train)\n",
    "\n",
    "y_predictions = model.predict(X_test)\n",
    "\n",
    "plt.scatter(y_predictions, y_predictions - y_test)\n",
    "plt.hlines(y=0, xmin=y_test.min(), xmax=y_test.max())\n",
    "\n",
    "# Score the predictions with mse and r2\n",
    "mse = mean_squared_error(y_test, y_predictions)\n",
    "r2 = r2_score(y_test, y_predictions)\n",
    "\n",
    "print(f\"Mean Squared Error (MSE): {mse}\")\n",
    "print(f\"R-squared (R2 ): {r2}\")"
   ]
  },
  {
   "cell_type": "code",
   "execution_count": 52,
   "metadata": {},
   "outputs": [
    {
     "name": "stdout",
     "output_type": "stream",
     "text": [
      "Weight coefficients:  [[0.11471458]]\n",
      "y-axis intercept:  [2.21991986]\n"
     ]
    },
    {
     "data": {
      "text/plain": [
       "[<matplotlib.lines.Line2D at 0x1a25481f28>]"
      ]
     },
     "execution_count": 52,
     "metadata": {},
     "output_type": "execute_result"
    },
    {
     "data": {
      "image/png": "[encoded data removed]",
      "text/plain": [
       "<Figure size 432x288 with 1 Axes>"
      ]
     },
     "metadata": {
      "needs_background": "light"
     },
     "output_type": "display_data"
    }
   ],
   "source": [
    "X = merge_table_final.pct_poverty.values.reshape(-1, 1)\n",
    "y = merge_table_final.Sex_Abuse.values.reshape(-1, 1)\n",
    "\n",
    "model = LinearRegression()\n",
    "\n",
    "model.fit(X, y)\n",
    "\n",
    "print('Weight coefficients: ', model.coef_)\n",
    "print('y-axis intercept: ', model.intercept_)\n",
    "\n",
    "x_min = np.array([[X.min()]])\n",
    "x_max = np.array([[X.max()]])\n",
    "\n",
    "y_min = model.predict(x_min)\n",
    "y_max = model.predict(x_max)\n",
    "\n",
    "plt.scatter(X, y, c='blue')\n",
    "plt.xlabel('Block Group Population')\n",
    "plt.ylabel('Violent Crimes')\n",
    "plt.plot([x_min[0], x_max[0]], [y_min[0], y_max[0]], c='red')"
   ]
  },
  {
   "cell_type": "code",
   "execution_count": 53,
   "metadata": {},
   "outputs": [
    {
     "name": "stdout",
     "output_type": "stream",
     "text": [
      "Mean Squared Error (MSE): 14.693156038027794\n",
      "R-squared (R2 ): 0.065966566625007\n"
     ]
    },
    {
     "data": {
      "image/png": "[encoded data removed]",
      "text/plain": [
       "<Figure size 432x288 with 1 Axes>"
      ]
     },
     "metadata": {
      "needs_background": "light"
     },
     "output_type": "display_data"
    }
   ],
   "source": [
    "X_train, X_test, y_train, y_test = train_test_split(X, y, random_state=1)\n",
    "                                                    \n",
    "model = LinearRegression()\n",
    "\n",
    "model.fit(X_train, y_train)\n",
    "\n",
    "y_predictions = model.predict(X_test)\n",
    "\n",
    "plt.scatter(y_predictions, y_predictions - y_test)\n",
    "plt.hlines(y=0, xmin=y_test.min(), xmax=y_test.max())\n",
    "\n",
    "# Score the predictions with mse and r2\n",
    "mse = mean_squared_error(y_test, y_predictions)\n",
    "r2 = r2_score(y_test, y_predictions)\n",
    "\n",
    "print(f\"Mean Squared Error (MSE): {mse}\")\n",
    "print(f\"R-squared (R2 ): {r2}\")"
   ]
  },
  {
   "cell_type": "code",
   "execution_count": 57,
   "metadata": {},
   "outputs": [
    {
     "name": "stdout",
     "output_type": "stream",
     "text": [
      "Weight coefficients:  [[0.13750974]]\n",
      "y-axis intercept:  [-0.38985287]\n"
     ]
    },
    {
     "data": {
      "text/plain": [
       "[<matplotlib.lines.Line2D at 0x110f47d30>]"
      ]
     },
     "execution_count": 57,
     "metadata": {},
     "output_type": "execute_result"
    },
    {
     "data": {
      "image/png": "[encoded data removed]",
      "text/plain": [
       "<Figure size 432x288 with 1 Axes>"
      ]
     },
     "metadata": {
      "needs_background": "light"
     },
     "output_type": "display_data"
    }
   ],
   "source": [
    "X = merge_table_final.pct_poverty.values.reshape(-1, 1)\n",
    "y = merge_table_final.Homicide.values.reshape(-1, 1)\n",
    "\n",
    "model = LinearRegression()\n",
    "\n",
    "model.fit(X, y)\n",
    "\n",
    "print('Weight coefficients: ', model.coef_)\n",
    "print('y-axis intercept: ', model.intercept_)\n",
    "\n",
    "x_min = np.array([[X.min()]])\n",
    "x_max = np.array([[X.max()]])\n",
    "\n",
    "y_min = model.predict(x_min)\n",
    "y_max = model.predict(x_max)\n",
    "\n",
    "plt.scatter(X, y, c='blue')\n",
    "plt.xlabel('Block Group Population')\n",
    "plt.ylabel('Violent Crimes')\n",
    "plt.plot([x_min[0], x_max[0]], [y_min[0], y_max[0]], c='red')"
   ]
  },
  {
   "cell_type": "code",
   "execution_count": 59,
   "metadata": {},
   "outputs": [
    {
     "name": "stdout",
     "output_type": "stream",
     "text": [
      "Mean Squared Error (MSE): 6.174202443793306\n",
      "R-squared (R2): 0.34235231045247616\n"
     ]
    },
    {
     "data": {
      "image/png": "[encoded data removed]",
      "text/plain": [
       "<Figure size 432x288 with 1 Axes>"
      ]
     },
     "metadata": {
      "needs_background": "light"
     },
     "output_type": "display_data"
    }
   ],
   "source": [
    "X_train, X_test, y_train, y_test = train_test_split(X, y, random_state=1)\n",
    "                                                    \n",
    "model = LinearRegression()\n",
    "\n",
    "model.fit(X_train, y_train)\n",
    "\n",
    "y_predictions = model.predict(X_test)\n",
    "\n",
    "plt.scatter(y_predictions, y_predictions - y_test)\n",
    "plt.hlines(y=0, xmin=y_test.min(), xmax=y_test.max())\n",
    "\n",
    "# Score the predictions with mse and r2\n",
    "mse = mean_squared_error(y_test, y_predictions)\n",
    "r2 = r2_score(y_test, y_predictions)\n",
    "\n",
    "print(f\"Mean Squared Error (MSE): {mse}\")\n",
    "print(f\"R-squared (R2): {r2}\")"
   ]
  },
  {
   "cell_type": "code",
   "execution_count": 61,
   "metadata": {},
   "outputs": [
    {
     "name": "stdout",
     "output_type": "stream",
     "text": [
      "Weight coefficients:  [[1.59121199]]\n",
      "y-axis intercept:  [11.82393756]\n"
     ]
    },
    {
     "data": {
      "text/plain": [
       "[<matplotlib.lines.Line2D at 0x1a25ed4f60>]"
      ]
     },
     "execution_count": 61,
     "metadata": {},
     "output_type": "execute_result"
    },
    {
     "data": {
      "image/png": "[encoded data removed]",
      "text/plain": [
       "<Figure size 432x288 with 1 Axes>"
      ]
     },
     "metadata": {
      "needs_background": "light"
     },
     "output_type": "display_data"
    }
   ],
   "source": [
    "X = merge_table_final.pct_unemployed.values.reshape(-1, 1)\n",
    "y = merge_table_final.ADW.values.reshape(-1, 1)\n",
    "\n",
    "model = LinearRegression()\n",
    "\n",
    "model.fit(X, y)\n",
    "\n",
    "print('Weight coefficients: ', model.coef_)\n",
    "print('y-axis intercept: ', model.intercept_)\n",
    "\n",
    "x_min = np.array([[X.min()]])\n",
    "x_max = np.array([[X.max()]])\n",
    "\n",
    "y_min = model.predict(x_min)\n",
    "y_max = model.predict(x_max)\n",
    "\n",
    "plt.scatter(X, y, c='blue')\n",
    "plt.xlabel('Block Group Population')\n",
    "plt.ylabel('Violent Crimes')\n",
    "plt.plot([x_min[0], x_max[0]], [y_min[0], y_max[0]], c='red')"
   ]
  },
  {
   "cell_type": "code",
   "execution_count": 62,
   "metadata": {},
   "outputs": [
    {
     "name": "stdout",
     "output_type": "stream",
     "text": [
      "Mean Squared Error (MSE): 614.3213891960371\n",
      "R-squared (R2): 0.2781655602158436\n"
     ]
    },
    {
     "data": {
      "image/png": "[encoded data removed]",
      "text/plain": [
       "<Figure size 432x288 with 1 Axes>"
      ]
     },
     "metadata": {
      "needs_background": "light"
     },
     "output_type": "display_data"
    }
   ],
   "source": [
    "X_train, X_test, y_train, y_test = train_test_split(X, y, random_state=1)\n",
    "                                                    \n",
    "model = LinearRegression()\n",
    "\n",
    "model.fit(X_train, y_train)\n",
    "\n",
    "y_predictions = model.predict(X_test)\n",
    "\n",
    "plt.scatter(y_predictions, y_predictions - y_test)\n",
    "plt.hlines(y=0, xmin=y_test.min(), xmax=y_test.max())\n",
    "\n",
    "# Score the predictions with mse and r2\n",
    "mse = mean_squared_error(y_test, y_predictions)\n",
    "r2 = r2_score(y_test, y_predictions)\n",
    "\n",
    "print(f\"Mean Squared Error (MSE): {mse}\")\n",
    "print(f\"R-squared (R2): {r2}\")"
   ]
  },
  {
   "cell_type": "code",
   "execution_count": null,
   "metadata": {},
   "outputs": [],
   "source": []
  }
 ],
 "metadata": {
  "kernelspec": {
   "display_name": "Python 3",
   "language": "python",
   "name": "python3"
  },
  "language_info": {
   "codemirror_mode": {
    "name": "ipython",
    "version": 3
   },
   "file_extension": ".py",
   "mimetype": "text/x-python",
   "name": "python",
   "nbconvert_exporter": "python",
   "pygments_lexer": "ipython3",
   "version": "3.7.3"
  }
 },
 "nbformat": 4,
 "nbformat_minor": 2
}
